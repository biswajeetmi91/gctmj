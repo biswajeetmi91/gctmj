{
 "cells": [
  {
   "cell_type": "code",
   "execution_count": 7,
   "metadata": {
    "collapsed": false,
    "scrolled": true
   },
   "outputs": [
    {
     "ename": "LookupError",
     "evalue": "\n\n===========================================================================\n  NLTK was unable to find stanford-parser-(\\d+)(\\.(\\d+))+-models\\.jar!\n  Set the CLASSPATH environment variable.\n\n  For more information, on stanford-parser-(\\d+)(\\.(\\d+))+-models\\.jar, see:\n    <http://nlp.stanford.edu/software/lex-parser.shtml>\n===========================================================================",
     "output_type": "error",
     "traceback": [
      "\u001b[1;31m---------------------------------------------------------------------------\u001b[0m",
      "\u001b[1;31mLookupError\u001b[0m                               Traceback (most recent call last)",
      "\u001b[1;32m<ipython-input-7-820bf23eda61>\u001b[0m in \u001b[0;36m<module>\u001b[1;34m()\u001b[0m\n\u001b[0;32m     18\u001b[0m \u001b[1;33m\u001b[0m\u001b[0m\n\u001b[0;32m     19\u001b[0m \u001b[1;31m#with open(\"example_article.txt\") as f:\u001b[0m\u001b[1;33m\u001b[0m\u001b[1;33m\u001b[0m\u001b[0m\n\u001b[1;32m---> 20\u001b[1;33m \u001b[0mparser\u001b[0m\u001b[1;33m=\u001b[0m\u001b[0mStanfordParser\u001b[0m\u001b[1;33m(\u001b[0m\u001b[1;33m)\u001b[0m\u001b[1;33m\u001b[0m\u001b[0m\n\u001b[0m\u001b[0;32m     21\u001b[0m '''\n\u001b[0;32m     22\u001b[0m         \u001b[0mtokenizer\u001b[0m \u001b[1;33m=\u001b[0m \u001b[0mPunktSentenceTokenizer\u001b[0m\u001b[1;33m(\u001b[0m\u001b[1;33m)\u001b[0m\u001b[1;33m\u001b[0m\u001b[0m\n",
      "\u001b[1;32m/home/biswajeet/anaconda2/lib/python2.7/site-packages/nltk/parse/stanford.pyc\u001b[0m in \u001b[0;36m__init__\u001b[1;34m(self, path_to_jar, path_to_models_jar, model_path, encoding, verbose, java_options, corenlp_options)\u001b[0m\n\u001b[0;32m     59\u001b[0m                 \u001b[0mverbose\u001b[0m\u001b[1;33m=\u001b[0m\u001b[0mverbose\u001b[0m\u001b[1;33m,\u001b[0m \u001b[0mis_regex\u001b[0m\u001b[1;33m=\u001b[0m\u001b[0mTrue\u001b[0m\u001b[1;33m\u001b[0m\u001b[0m\n\u001b[0;32m     60\u001b[0m             ),\n\u001b[1;32m---> 61\u001b[1;33m             \u001b[0mkey\u001b[0m\u001b[1;33m=\u001b[0m\u001b[1;32mlambda\u001b[0m \u001b[0mmodel_name\u001b[0m\u001b[1;33m:\u001b[0m \u001b[0mre\u001b[0m\u001b[1;33m.\u001b[0m\u001b[0mmatch\u001b[0m\u001b[1;33m(\u001b[0m\u001b[0mself\u001b[0m\u001b[1;33m.\u001b[0m\u001b[0m_MODEL_JAR_PATTERN\u001b[0m\u001b[1;33m,\u001b[0m \u001b[0mmodel_name\u001b[0m\u001b[1;33m)\u001b[0m\u001b[1;33m\u001b[0m\u001b[0m\n\u001b[0m\u001b[0;32m     62\u001b[0m         )\n\u001b[0;32m     63\u001b[0m \u001b[1;33m\u001b[0m\u001b[0m\n",
      "\u001b[1;32m/home/biswajeet/anaconda2/lib/python2.7/site-packages/nltk/__init__.pyc\u001b[0m in \u001b[0;36mfind_jar_iter\u001b[1;34m(name_pattern, path_to_jar, env_vars, searchpath, url, verbose, is_regex)\u001b[0m\n\u001b[0;32m    645\u001b[0m                     (name_pattern, url))\n\u001b[0;32m    646\u001b[0m         \u001b[0mdiv\u001b[0m \u001b[1;33m=\u001b[0m \u001b[1;34m'='\u001b[0m\u001b[1;33m*\u001b[0m\u001b[1;36m75\u001b[0m\u001b[1;33m\u001b[0m\u001b[0m\n\u001b[1;32m--> 647\u001b[1;33m         \u001b[1;32mraise\u001b[0m \u001b[0mLookupError\u001b[0m\u001b[1;33m(\u001b[0m\u001b[1;34m'\\n\\n%s\\n%s\\n%s'\u001b[0m \u001b[1;33m%\u001b[0m \u001b[1;33m(\u001b[0m\u001b[0mdiv\u001b[0m\u001b[1;33m,\u001b[0m \u001b[0mmsg\u001b[0m\u001b[1;33m,\u001b[0m \u001b[0mdiv\u001b[0m\u001b[1;33m)\u001b[0m\u001b[1;33m)\u001b[0m\u001b[1;33m\u001b[0m\u001b[0m\n\u001b[0m\u001b[0;32m    648\u001b[0m \u001b[1;33m\u001b[0m\u001b[0m\n\u001b[0;32m    649\u001b[0m def find_jar(name_pattern, path_to_jar=None, env_vars=(),\n",
      "\u001b[1;31mLookupError\u001b[0m: \n\n===========================================================================\n  NLTK was unable to find stanford-parser-(\\d+)(\\.(\\d+))+-models\\.jar!\n  Set the CLASSPATH environment variable.\n\n  For more information, on stanford-parser-(\\d+)(\\.(\\d+))+-models\\.jar, see:\n    <http://nlp.stanford.edu/software/lex-parser.shtml>\n==========================================================================="
     ]
    }
   ],
   "source": [
    "from nltk.tokenize.punkt import PunktSentenceTokenizer\n",
    "import nltk\n",
    "from nltk.parse.stanford import StanfordParser\n",
    "from nltk.tag.stanford import StanfordNERTagger\n",
    "import os\n",
    "from nltk.tree import Tree\n",
    "import subprocess\n",
    "import pprint\n",
    "\n",
    "models_path = '/media/Shared/stanford/stanford-parser-full-2015-04-20/stanford-parser-3.5.2-models.jar'\n",
    "#models_path += ' : /media/Shared/stanford/stanford-english-corenlp-2015-12-11-models.jar'\n",
    "\n",
    "os.environ['JAVAHOME'] = '/usr/lib/jvm/java-8-oracle'\n",
    "os.environ['CLASSPATH'] = '/media/Shared/stanford/stanford-parser-full-2015-04-20/stanford-parser.jar'\n",
    "os.environ['STANFORD_MODELS'] = models_path\n",
    "ner_classifier_path = '/media/Shared/stanford/stanford-ner-2014-06-16/classifiers/all.3class.distsim.crf.ser.gz'\n",
    "ner_jar_path = '/media/Shared/stanford/stanford-ner-2014-06-16/stanford-ner.jar'\n",
    "\n",
    "#with open(\"example_article.txt\") as f:\n",
    "parser=StanfordParser()\n",
    "'''\n",
    "\ttokenizer = PunktSentenceTokenizer()\n",
    "\tsentences = tokenizer.tokenize(f.read().decode('utf-8').replace(\"\\n\",\" \"))\n",
    "\t\n",
    "\n",
    "\tprint len(sentences)\n",
    "\tprint len([ x for x in sentences if \"is\" in x])\n",
    "\t\n",
    "\tsentences[0] = \"I am going to watch a movie in the evening.\"\n",
    "\tsentences[0] = \"I have always wondered how I have always been so good on the guitar.\"\n",
    "\tsentences[0] = \"Our dinner has been eaten by the dog.\"\n",
    "\tsentences[0] = \"Playing badminton and tt are my favorite pastimes\"\n",
    "\tsentences[0] = \"He did not play for two years\"\n",
    "\t#sentences[0] = \"John went to the pub in ShadySide\"\n",
    "\t#sentences[0] = \"The capital of India is New Delhi.\"\n",
    "\t#sentences[0] = \"David Beckham played for Manchester United\"\n",
    "\t#sentences[0] = \"biswajeet plays badminton\"\n",
    "'''\n",
    "sentences = [\"\"]*14\n",
    "sentences[0] = \"James hurried, barely catching the bus.\"\n",
    "sentences[1] = \"Before taking the exam James studied.\"\n",
    "sentences[2] = \"John met Bob and Mary.\"\n",
    "sentences[4] = \"Darwin studied how species evolve\"\n",
    "sentences[3] = \"James arrived before the bus left\"\n",
    "sentences[5] = \"John said that Bob is old.\"\n",
    "sentences[6] = \"John's favorite activity is to run in the park.\"\n",
    "sentences[7] = \"John visited the capital of Alaska\"\n",
    "sentences[8] = \"Bill saw John in the hall of mirrors.\"\n",
    "sentences[9] = \"The capital of Russia is Moscow.\"\n",
    "sentences[10] = \"James owned a car that was blue.\"\n",
    "sentences[11] = \"John would notice the problem if someone told him about it.\"\n",
    "sentences[12] = \"There was a dog in the park.\"\n",
    "sentences[13] = \"John gave Mary a book.\"\n",
    "\n",
    "# write the parse trees to a file to apply the tregex rules\n",
    "intree = \"input_tree.txt\"\n",
    "fp = open(intree,\"w\")\n",
    "\n",
    "for sent in sentences:\n",
    "\tsent = sent.rstrip('.')\n",
    "\tparseTree = list(parser.raw_parse(sent))\n",
    "\t#parseTree = parser.raw_parse((sentences[0]))\n",
    "\t\n",
    "\t# the parse tree for the entire sentence\n",
    "\troot = parseTree[0]\n",
    "\ttree1 = str(root).replace(\"\\n\",\"\")\n",
    "\ttree1 = tree1.replace(\"\\t\",\"\")\n",
    "\tfp.write(tree1+\"\\n\")\n",
    "\n",
    "fp.close()"
   ]
  },
  {
   "cell_type": "code",
   "execution_count": 2,
   "metadata": {
    "collapsed": false
   },
   "outputs": [
    {
     "name": "stdout",
     "output_type": "stream",
     "text": [
      "bash ./tsurgeon.sh -s -treeFile ../input_tree.txt ../rule1 ../rule2 ../rule3 ../rule4 ../rule5 ../rule6 ../rule7 ../rule8 ../rule9 ../rule10 ../rule11 ../rule12 ../rule13 ../rule14 ../rule15 ../rule16 \n",
      "(ROOT (S (NP (NNP James)) (VP (VBN hurried) (, ,) (unmv (VP (ADVP (RB barely)) (VBG catching) (NP (DT the) (NN bus)))))))\n",
      "15\n"
     ]
    }
   ],
   "source": [
    "# now apply the tregex rules to the parse trees and get \n",
    "# the modified trees\n",
    "#os.chdir('..')\n",
    "rulestring1 = \"\"\n",
    "rulei = \"rule\"\n",
    "for i in range(1,17):\n",
    "\trulestring1 += \"../\"+rulei+str(i)+\" \"\n",
    "runtsurgeon = \"bash ./tsurgeon.sh -s -treeFile ../\"+intree+\" \"+rulestring1\n",
    "print runtsurgeon\n",
    "# change the directory and run tregex\n",
    "os.chdir('stanford-tregex-2014-10-26')\n",
    "proc = subprocess.Popen(runtsurgeon+\"> interim.txt\",shell='True')\n",
    "proc.wait()\n",
    "# now run the last 2 rules\n",
    "runtsurgeon2 = \"bash ./tsurgeon.sh -s -treeFile interim.txt ../rule17 ../rule18\"\n",
    "output = subprocess.check_output(runtsurgeon2,shell='True')\n",
    "os.chdir('..')\n",
    "# got the modified parse trees\n",
    "outlist = output.split(\"\\n\")\n",
    "print len(outlist)\n",
    "\n"
   ]
  },
  {
   "cell_type": "code",
   "execution_count": null,
   "metadata": {
    "collapsed": true
   },
   "outputs": [],
   "source": []
  }
 ],
 "metadata": {
  "kernelspec": {
   "display_name": "Python 2",
   "language": "python",
   "name": "python2"
  },
  "language_info": {
   "codemirror_mode": {
    "name": "ipython",
    "version": 2
   },
   "file_extension": ".py",
   "mimetype": "text/x-python",
   "name": "python",
   "nbconvert_exporter": "python",
   "pygments_lexer": "ipython2",
   "version": "2.7.11"
  }
 },
 "nbformat": 4,
 "nbformat_minor": 0
}
