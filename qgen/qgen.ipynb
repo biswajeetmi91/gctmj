{
 "cells": [
  {
   "cell_type": "code",
   "execution_count": 2,
   "metadata": {
    "collapsed": false,
    "scrolled": true
   },
   "outputs": [],
   "source": [
    "from nltk.tokenize.punkt import PunktSentenceTokenizer\n",
    "import nltk\n",
    "from nltk.parse.stanford import StanfordParser\n",
    "from nltk.tag import StanfordNERTagger\n",
    "import os\n",
    "from nltk.tree import Tree\n",
    "import subprocess\n",
    "import pprint\n",
    "\n",
    "models_path = '/media/Shared/stanford/stanford-parser-full-2015-04-20/stanford-parser-3.5.2-models.jar'\n",
    "#models_path += '/media/Shared/stanford/stanford-english-corenlp-2015-12-11-models.jar'\n",
    "\n",
    "os.environ['JAVAHOME'] = '/usr/lib/jvm/java-8-oracle'\n",
    "os.environ['CLASSPATH'] = '/media/Shared/stanford/stanford-parser-full-2015-04-20/stanford-parser.jar'\n",
    "os.environ['STANFORD_MODELS'] = models_path\n",
    "ner_classifier_path = '/media/Shared/stanford/stanford-ner-2014-06-16/classifiers/english.all.3class.distsim.crf.ser.gz'\n",
    "ner_jar_path = '/media/Shared/stanford/stanford-ner-2014-06-16/stanford-ner.jar'\n",
    "\n",
    "#with open(\"example_article.txt\") as f:\n",
    "parser=StanfordParser()\n",
    "'''\n",
    "\ttokenizer = PunktSentenceTokenizer()\n",
    "\tsentences = tokenizer.tokenize(f.read().decode('utf-8').replace(\"\\n\",\" \"))\n",
    "\t\n",
    "\n",
    "\tprint len(sentences)\n",
    "\tprint len([ x for x in sentences if \"is\" in x])\n",
    "\t\n",
    "\tsentences[0] = \"I am going to watch a movie in the evening.\"\n",
    "\tsentences[0] = \"I have always wondered how I have always been so good on the guitar.\"\n",
    "\tsentences[0] = \"Our dinner has been eaten by the dog.\"\n",
    "\tsentences[0] = \"Playing badminton and tt are my favorite pastimes\"\n",
    "\tsentences[0] = \"He did not play for two years\"\n",
    "\t#sentences[0] = \"John went to the pub in ShadySide\"\n",
    "\t#sentences[0] = \"The capital of India is New Delhi.\"\n",
    "\t#sentences[0] = \"David Beckham played for Manchester United\"\n",
    "\t#sentences[0] = \"biswajeet plays badminton\"\n",
    "'''\n",
    "sentences = [\"\"]*14\n",
    "sentences[0] = \"James hurried, barely catching the bus.\"\n",
    "sentences[1] = \"Before taking the exam James studied.\"\n",
    "sentences[2] = \"John met Bob and Mary.\"\n",
    "sentences[4] = \"Darwin studied how species evolve\"\n",
    "sentences[3] = \"James arrived before the bus left\"\n",
    "sentences[5] = \"John said that Bob is old.\"\n",
    "sentences[6] = \"John's favorite activity is to run in the park.\"\n",
    "sentences[7] = \"John visited the capital of Alaska\"\n",
    "sentences[8] = \"Bill saw John in the hall of mirrors.\"\n",
    "sentences[9] = \"The capital of Russia is Moscow.\"\n",
    "sentences[10] = \"James owned a car that was blue.\"\n",
    "sentences[11] = \"John would notice the problem if someone told him about it.\"\n",
    "sentences[12] = \"There was a dog in the park.\"\n",
    "sentences[13] = \"John gave Mary a book.\"\n",
    "\n",
    "# write the parse trees to a file to apply the tregex rules\n",
    "intree = \"input_tree.txt\"\n",
    "fp = open(intree,\"w\")\n",
    "\n",
    "for sent in sentences:\n",
    "\tsent = sent.rstrip('.')\n",
    "\tparseTree = list(parser.raw_parse(sent))\n",
    "\t#parseTree = parser.raw_parse((sentences[0]))\n",
    "\t\n",
    "\t# the parse tree for the entire sentence\n",
    "\troot = parseTree[0]\n",
    "\ttree1 = str(root).replace(\"\\n\",\"\")\n",
    "\ttree1 = tree1.replace(\"\\t\",\"\")\n",
    "\tfp.write(tree1+\"\\n\")\n",
    "\n",
    "fp.close()"
   ]
  },
  {
   "cell_type": "code",
   "execution_count": 9,
   "metadata": {
    "collapsed": false
   },
   "outputs": [
    {
     "name": "stdout",
     "output_type": "stream",
     "text": [
      "bash ./tsurgeon.sh -s -treeFile ../input_tree.txt ../rule1 ../rule2 ../rule3 ../rule4 ../rule5 ../rule6 ../rule7 ../rule8 ../rule9 ../rule10 ../rule11 ../rule12 ../rule13 ../rule14 ../rule15 ../rule16 \n",
      "15\n"
     ]
    }
   ],
   "source": [
    "# now apply the tregex rules to the parse trees and get \n",
    "# the modified trees\n",
    "#os.chdir('..')\n",
    "rulestring1 = \"\"\n",
    "rulei = \"rule\"\n",
    "for i in range(1,17):\n",
    "\trulestring1 += \"../\"+rulei+str(i)+\" \"\n",
    "runtsurgeon = \"bash ./tsurgeon.sh -s -treeFile ../\"+intree+\" \"+rulestring1\n",
    "print runtsurgeon\n",
    "# change the directory and run tregex\n",
    "os.chdir('stanford-tregex-2014-10-26')\n",
    "proc = subprocess.Popen(runtsurgeon+\"> interim.txt\",shell='True')\n",
    "proc.wait()\n",
    "# now run the last 2 rules\n",
    "runtsurgeon2 = \"bash ./tsurgeon.sh -s -treeFile interim.txt ../rule17 ../rule18\"\n",
    "output = subprocess.check_output(runtsurgeon2,shell='True')\n",
    "os.chdir('..')\n",
    "# got the modified parse trees\n",
    "outlist = output.split(\"\\n\")\n",
    "print len(outlist)\n",
    "\n"
   ]
  },
  {
   "cell_type": "code",
   "execution_count": 6,
   "metadata": {
    "collapsed": false
   },
   "outputs": [
    {
     "name": "stdout",
     "output_type": "stream",
     "text": [
      "['Rami', 'Eid', 'is', 'studying', 'at', 'Stony', 'Brook', 'University', 'in', 'New', 'York']\n",
      "Rami\n"
     ]
    }
   ],
   "source": [
    "# the ner part\n",
    "st = StanfordNERTagger(ner_classifier_path,ner_jar_path)\n",
    "line = (\"Rami Eid is studying at Stony Brook University in New York\".split())\n",
    "print line\n",
    "tags = st.tag(line)\n",
    "if tags[0][1] == 'PERSON':\n",
    "    print tags[0][0]"
   ]
  },
  {
   "cell_type": "code",
   "execution_count": null,
   "metadata": {
    "collapsed": true
   },
   "outputs": [],
   "source": []
  }
 ],
 "metadata": {
  "kernelspec": {
   "display_name": "Python 2",
   "language": "python",
   "name": "python2"
  },
  "language_info": {
   "codemirror_mode": {
    "name": "ipython",
    "version": 2
   },
   "file_extension": ".py",
   "mimetype": "text/x-python",
   "name": "python",
   "nbconvert_exporter": "python",
   "pygments_lexer": "ipython2",
   "version": "2.7.11"
  }
 },
 "nbformat": 4,
 "nbformat_minor": 0
}
